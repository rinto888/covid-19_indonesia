{
  "nbformat": 4,
  "nbformat_minor": 0,
  "metadata": {
    "colab": {
      "name": "perbandingan covid di berbagai daerah.ipynb",
      "provenance": [],
      "collapsed_sections": []
    },
    "kernelspec": {
      "name": "python3",
      "display_name": "Python 3"
    },
    "language_info": {
      "name": "python"
    }
  },
  "cells": [
    {
      "cell_type": "code",
      "metadata": {
        "id": "KONxRc66TIpP"
      },
      "source": [
        "import requests\n",
        "\n",
        "#mengambil data dari website\n",
        "resp_jatim = requests.get('https://data.covid19.go.id/public/api/prov_detail_JAWA_TIMUR.json')\n",
        "jatim = resp_jatim.json()\n",
        "resp_jabar = requests.get('https://data.covid19.go.id/public/api/prov_detail_JAWA_BARAT.json')\n",
        "jabar = resp_jabar.json()\n",
        "resp_jateng = requests.get('https://data.covid19.go.id/public/api/prov_detail_JAWA_TENGAH.json')\n",
        "jateng = resp_jateng.json()\n",
        "resp_dki = requests.get('https://data.covid19.go.id/public/api/prov_detail_DKI_JAKARTA.json')\n",
        "dki = resp_dki.json()\n",
        "resp_banten = requests.get('https://data.covid19.go.id/public/api/prov_detail_BANTEN.json')\n",
        "banten = resp_banten.json()\n",
        "resp_diy = requests.get('https://data.covid19.go.id/public/api/prov_detail_DAERAH_ISTIMEWA_YOGYAKARTA.json')\n",
        "diy = resp_diy.json()"
      ],
      "execution_count": 2,
      "outputs": []
    },
    {
      "cell_type": "code",
      "metadata": {
        "colab": {
          "base_uri": "https://localhost:8080/"
        },
        "id": "QDTgEn336iMf",
        "outputId": "a5c12efc-0863-438a-e0e1-505177b955a7"
      },
      "source": [
        "#mengambil data yang diperlukan\n",
        "provinsi = ['DKI Jakarta', 'Banten', 'Jawa Barat', 'Jawa Tengah', 'DI Yogyakarta', 'Jawa Timur']\n",
        "prov = [dki, banten, jabar, jateng, diy, jatim]\n",
        "\n",
        "data = {'provinsi':[], 'kasus_total':[], 'meninggal_persen':[], 'sembuh_persen':[]}\n",
        "for idx in range(len(prov)):\n",
        "  data['provinsi'].append(provinsi[idx])\n",
        "  data['kasus_total'].append(prov[idx]['kasus_total'])\n",
        "  data['meninggal_persen'].append(prov[idx]['meninggal_persen'])\n",
        "  data['sembuh_persen'].append(prov[idx]['sembuh_persen'])\n",
        "\n",
        "print(data)"
      ],
      "execution_count": 3,
      "outputs": [
        {
          "output_type": "stream",
          "text": [
            "{'provinsi': ['DKI Jakarta', 'Banten', 'Jawa Barat', 'Jawa Tengah', 'DI Yogyakarta', 'Jawa Timur'], 'kasus_total': [401110, 46241, 270711, 180489, 37589, 145240], 'meninggal_persen': [1.6302261225100347, 2.582124089011916, 1.316902527049141, 4.304417443722333, 2.44486418899146, 7.168135499862297], 'sembuh_persen': [96.73331505073422, 93.29383015073203, 88.05183387450086, 87.27955720293204, 85.53566202878503, 90.95910217570918]}\n"
          ],
          "name": "stdout"
        }
      ]
    },
    {
      "cell_type": "code",
      "metadata": {
        "colab": {
          "base_uri": "https://localhost:8080/"
        },
        "id": "vVEcLa1z_e2-",
        "outputId": "16a1fc47-8e69-4500-b58c-0cf94b71b9a1"
      },
      "source": [
        "import pandas as pd\n",
        "\n",
        "#mengubah data ke bentuk dataframe\n",
        "data = pd.DataFrame.from_dict(data)\n",
        "\n",
        "data = data.set_index('provinsi')\n",
        "print(data)"
      ],
      "execution_count": 4,
      "outputs": [
        {
          "output_type": "stream",
          "text": [
            "               kasus_total  meninggal_persen  sembuh_persen\n",
            "provinsi                                                   \n",
            "DKI Jakarta         401110          1.630226      96.733315\n",
            "Banten               46241          2.582124      93.293830\n",
            "Jawa Barat          270711          1.316903      88.051834\n",
            "Jawa Tengah         180489          4.304417      87.279557\n",
            "DI Yogyakarta        37589          2.444864      85.535662\n",
            "Jawa Timur          145240          7.168135      90.959102\n"
          ],
          "name": "stdout"
        }
      ]
    },
    {
      "cell_type": "code",
      "metadata": {
        "colab": {
          "base_uri": "https://localhost:8080/",
          "height": 266
        },
        "id": "oZ_MpvYrYGE6",
        "outputId": "89fed3e6-3ae6-4a31-998b-d87d462cd1d3"
      },
      "source": [
        "#menghitung jumlah pasien meninggal dan sembuh\n",
        "data['meninggal_total'] = data.meninggal_persen/100 * data.kasus_total\n",
        "data['sembuh_total'] = data.sembuh_persen/100 * data.kasus_total\n",
        "\n",
        "data"
      ],
      "execution_count": 5,
      "outputs": [
        {
          "output_type": "execute_result",
          "data": {
            "text/html": [
              "<div>\n",
              "<style scoped>\n",
              "    .dataframe tbody tr th:only-of-type {\n",
              "        vertical-align: middle;\n",
              "    }\n",
              "\n",
              "    .dataframe tbody tr th {\n",
              "        vertical-align: top;\n",
              "    }\n",
              "\n",
              "    .dataframe thead th {\n",
              "        text-align: right;\n",
              "    }\n",
              "</style>\n",
              "<table border=\"1\" class=\"dataframe\">\n",
              "  <thead>\n",
              "    <tr style=\"text-align: right;\">\n",
              "      <th></th>\n",
              "      <th>kasus_total</th>\n",
              "      <th>meninggal_persen</th>\n",
              "      <th>sembuh_persen</th>\n",
              "      <th>meninggal_total</th>\n",
              "      <th>sembuh_total</th>\n",
              "    </tr>\n",
              "    <tr>\n",
              "      <th>provinsi</th>\n",
              "      <th></th>\n",
              "      <th></th>\n",
              "      <th></th>\n",
              "      <th></th>\n",
              "      <th></th>\n",
              "    </tr>\n",
              "  </thead>\n",
              "  <tbody>\n",
              "    <tr>\n",
              "      <th>DKI Jakarta</th>\n",
              "      <td>401110</td>\n",
              "      <td>1.630226</td>\n",
              "      <td>96.733315</td>\n",
              "      <td>6539.0</td>\n",
              "      <td>388007.0</td>\n",
              "    </tr>\n",
              "    <tr>\n",
              "      <th>Banten</th>\n",
              "      <td>46241</td>\n",
              "      <td>2.582124</td>\n",
              "      <td>93.293830</td>\n",
              "      <td>1194.0</td>\n",
              "      <td>43140.0</td>\n",
              "    </tr>\n",
              "    <tr>\n",
              "      <th>Jawa Barat</th>\n",
              "      <td>270711</td>\n",
              "      <td>1.316903</td>\n",
              "      <td>88.051834</td>\n",
              "      <td>3565.0</td>\n",
              "      <td>238366.0</td>\n",
              "    </tr>\n",
              "    <tr>\n",
              "      <th>Jawa Tengah</th>\n",
              "      <td>180489</td>\n",
              "      <td>4.304417</td>\n",
              "      <td>87.279557</td>\n",
              "      <td>7769.0</td>\n",
              "      <td>157530.0</td>\n",
              "    </tr>\n",
              "    <tr>\n",
              "      <th>DI Yogyakarta</th>\n",
              "      <td>37589</td>\n",
              "      <td>2.444864</td>\n",
              "      <td>85.535662</td>\n",
              "      <td>919.0</td>\n",
              "      <td>32152.0</td>\n",
              "    </tr>\n",
              "    <tr>\n",
              "      <th>Jawa Timur</th>\n",
              "      <td>145240</td>\n",
              "      <td>7.168135</td>\n",
              "      <td>90.959102</td>\n",
              "      <td>10411.0</td>\n",
              "      <td>132109.0</td>\n",
              "    </tr>\n",
              "  </tbody>\n",
              "</table>\n",
              "</div>"
            ],
            "text/plain": [
              "               kasus_total  meninggal_persen  ...  meninggal_total  sembuh_total\n",
              "provinsi                                      ...                               \n",
              "DKI Jakarta         401110          1.630226  ...           6539.0      388007.0\n",
              "Banten               46241          2.582124  ...           1194.0       43140.0\n",
              "Jawa Barat          270711          1.316903  ...           3565.0      238366.0\n",
              "Jawa Tengah         180489          4.304417  ...           7769.0      157530.0\n",
              "DI Yogyakarta        37589          2.444864  ...            919.0       32152.0\n",
              "Jawa Timur          145240          7.168135  ...          10411.0      132109.0\n",
              "\n",
              "[6 rows x 5 columns]"
            ]
          },
          "metadata": {
            "tags": []
          },
          "execution_count": 5
        }
      ]
    },
    {
      "cell_type": "code",
      "metadata": {
        "colab": {
          "base_uri": "https://localhost:8080/",
          "height": 368
        },
        "id": "O0xIJ0nGZcsi",
        "outputId": "7913742f-ec04-415d-fe67-b987f859f672"
      },
      "source": [
        "#menghitung kasus aktif\n",
        "data_grup = data[['kasus_total', 'meninggal_total', 'sembuh_total']]\n",
        "data_grup['kasus_aktif'] = data_grup['kasus_total'] - data_grup['meninggal_total'] - data_grup['sembuh_total']\n",
        "data_grup = data_grup.sort_values('kasus_total')\n",
        "\n",
        "data_grup"
      ],
      "execution_count": 6,
      "outputs": [
        {
          "output_type": "stream",
          "text": [
            "/usr/local/lib/python3.7/dist-packages/ipykernel_launcher.py:3: SettingWithCopyWarning: \n",
            "A value is trying to be set on a copy of a slice from a DataFrame.\n",
            "Try using .loc[row_indexer,col_indexer] = value instead\n",
            "\n",
            "See the caveats in the documentation: https://pandas.pydata.org/pandas-docs/stable/user_guide/indexing.html#returning-a-view-versus-a-copy\n",
            "  This is separate from the ipykernel package so we can avoid doing imports until\n"
          ],
          "name": "stderr"
        },
        {
          "output_type": "execute_result",
          "data": {
            "text/html": [
              "<div>\n",
              "<style scoped>\n",
              "    .dataframe tbody tr th:only-of-type {\n",
              "        vertical-align: middle;\n",
              "    }\n",
              "\n",
              "    .dataframe tbody tr th {\n",
              "        vertical-align: top;\n",
              "    }\n",
              "\n",
              "    .dataframe thead th {\n",
              "        text-align: right;\n",
              "    }\n",
              "</style>\n",
              "<table border=\"1\" class=\"dataframe\">\n",
              "  <thead>\n",
              "    <tr style=\"text-align: right;\">\n",
              "      <th></th>\n",
              "      <th>kasus_total</th>\n",
              "      <th>meninggal_total</th>\n",
              "      <th>sembuh_total</th>\n",
              "      <th>kasus_aktif</th>\n",
              "    </tr>\n",
              "    <tr>\n",
              "      <th>provinsi</th>\n",
              "      <th></th>\n",
              "      <th></th>\n",
              "      <th></th>\n",
              "      <th></th>\n",
              "    </tr>\n",
              "  </thead>\n",
              "  <tbody>\n",
              "    <tr>\n",
              "      <th>DI Yogyakarta</th>\n",
              "      <td>37589</td>\n",
              "      <td>919.0</td>\n",
              "      <td>32152.0</td>\n",
              "      <td>4518.0</td>\n",
              "    </tr>\n",
              "    <tr>\n",
              "      <th>Banten</th>\n",
              "      <td>46241</td>\n",
              "      <td>1194.0</td>\n",
              "      <td>43140.0</td>\n",
              "      <td>1907.0</td>\n",
              "    </tr>\n",
              "    <tr>\n",
              "      <th>Jawa Timur</th>\n",
              "      <td>145240</td>\n",
              "      <td>10411.0</td>\n",
              "      <td>132109.0</td>\n",
              "      <td>2720.0</td>\n",
              "    </tr>\n",
              "    <tr>\n",
              "      <th>Jawa Tengah</th>\n",
              "      <td>180489</td>\n",
              "      <td>7769.0</td>\n",
              "      <td>157530.0</td>\n",
              "      <td>15190.0</td>\n",
              "    </tr>\n",
              "    <tr>\n",
              "      <th>Jawa Barat</th>\n",
              "      <td>270711</td>\n",
              "      <td>3565.0</td>\n",
              "      <td>238366.0</td>\n",
              "      <td>28780.0</td>\n",
              "    </tr>\n",
              "    <tr>\n",
              "      <th>DKI Jakarta</th>\n",
              "      <td>401110</td>\n",
              "      <td>6539.0</td>\n",
              "      <td>388007.0</td>\n",
              "      <td>6564.0</td>\n",
              "    </tr>\n",
              "  </tbody>\n",
              "</table>\n",
              "</div>"
            ],
            "text/plain": [
              "               kasus_total  meninggal_total  sembuh_total  kasus_aktif\n",
              "provinsi                                                              \n",
              "DI Yogyakarta        37589            919.0       32152.0       4518.0\n",
              "Banten               46241           1194.0       43140.0       1907.0\n",
              "Jawa Timur          145240          10411.0      132109.0       2720.0\n",
              "Jawa Tengah         180489           7769.0      157530.0      15190.0\n",
              "Jawa Barat          270711           3565.0      238366.0      28780.0\n",
              "DKI Jakarta         401110           6539.0      388007.0       6564.0"
            ]
          },
          "metadata": {
            "tags": []
          },
          "execution_count": 6
        }
      ]
    },
    {
      "cell_type": "code",
      "metadata": {
        "colab": {
          "base_uri": "https://localhost:8080/",
          "height": 412
        },
        "id": "0UKmD6nuZyN-",
        "outputId": "337cc41e-b5b0-4fdc-eccf-fb3d4e901629"
      },
      "source": [
        "import matplotlib.pyplot as plt\n",
        "\n",
        "fields = ['sembuh_total','meninggal_total','kasus_aktif']\n",
        "colors = ['#1b998b', '#2e294e', '#f46036']\n",
        "labels = ['Sembuh', 'Meninggal', 'Aktif']\n",
        "# figure dan axis\n",
        "fig, ax = plt.subplots(1, figsize=(10, 5))\n",
        "# plot bars\n",
        "left = len(data_grup) * [0]\n",
        "for idx, name in enumerate(fields):\n",
        "    plt.barh(data_grup.index, data_grup[name], left = left, color=colors[idx])\n",
        "    left = left + data_grup[name]\n",
        "# title, legend, labels\n",
        "plt.title('COVID-19 di Pulau Jawa\\n', fontsize=25, loc='left', y=1.05, fontweight='bold')\n",
        "plt.legend(labels, bbox_to_anchor=([0.55, 1, 0, -0.05]), ncol=3, frameon=False)\n",
        "plt.xlabel('Jumlah Pasien')\n",
        "ax.text(1, -0.15, 'Sumber data: covid19.go.id', color='black', ha='right', transform=ax.transAxes)\n",
        "# menghilangkan spines\n",
        "ax.spines['right'].set_visible(False)\n",
        "ax.spines['left'].set_visible(False)\n",
        "ax.spines['top'].set_visible(False)\n",
        "ax.spines['bottom'].set_visible(False)\n",
        "# mengatur limit and membuat grid lines\n",
        "plt.ylim(-0.5, ax.get_yticks()[-1] + 0.5)\n",
        "ax.set_axisbelow(True)\n",
        "ax.xaxis.grid(color='gray', linestyle='dashed')\n",
        "plt.show()"
      ],
      "execution_count": 8,
      "outputs": [
        {
          "output_type": "display_data",
          "data": {
            "image/png": "[encoded data removed]",
            "text/plain": [
              "<Figure size 720x360 with 1 Axes>"
            ]
          },
          "metadata": {
            "tags": [],
            "needs_background": "light"
          }
        }
      ]
    },
    {
      "cell_type": "code",
      "metadata": {
        "colab": {
          "base_uri": "https://localhost:8080/",
          "height": 402
        },
        "id": "rWUJ8nJXrckc",
        "outputId": "9baf88b2-61c2-4fea-b032-01833fdf7256"
      },
      "source": [
        "fig, ax = plt.subplots(figsize=(10,5))\n",
        "\n",
        "#plot bars\n",
        "ax.barh(data=data.sort_values('sembuh_persen'), width='sembuh_persen', y=data.index, color='#1b998b')\n",
        "\n",
        "# titels dan labels\n",
        "fig.suptitle('Persentase Kesembuhan di Pulau Jawa', \n",
        "             y=1.05, fontsize=20, fontweight='bold', ha='center')\n",
        "ax.set_xlabel('Persentase')\n",
        "ax.set_ylabel('')\n",
        "ax.text(1, -0.15, 'Sumber data: covid.19.go.id', color='black',\n",
        "        ha='right', transform=ax.transAxes)\n",
        "\n",
        "# menghilangkan spines\n",
        "ax.spines['right'].set_visible(False)\n",
        "ax.spines['top'].set_visible(False)\n",
        "\n",
        "#mengatur limits\n",
        "plt.ylim(-0.5, ax.get_yticks()[-1] + 0.5)\n",
        "plt.tight_layout()\n",
        "plt.show()"
      ],
      "execution_count": 9,
      "outputs": [
        {
          "output_type": "display_data",
          "data": {
            "image/png": "[encoded data removed]",
            "text/plain": [
              "<Figure size 720x360 with 1 Axes>"
            ]
          },
          "metadata": {
            "tags": [],
            "needs_background": "light"
          }
        }
      ]
    }
  ]
}